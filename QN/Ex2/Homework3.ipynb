{
 "cells": [
  {
   "cell_type": "code",
   "execution_count": 77,
   "metadata": {},
   "outputs": [],
   "source": [
    "# Let's have a bayesien look on the male/female classification problem\n",
    "import matplotlib.pyplot as plt\n",
    "import numpy as np\n",
    "\n",
    "# Number of generated data points.\n",
    "N = 50\n",
    "\n",
    "x_1 = np.random.normal(165, 5, N) # Measurements from the class 1\n",
    "x_2 = np.random.normal(180, 6, N) # Measurements from the class 2"
   ]
  },
  {
   "cell_type": "code",
   "execution_count": 79,
   "metadata": {},
   "outputs": [],
   "source": [
    "# Kernel estimation code from probability distribution notebook.\n",
    "\n",
    "def kernel_estimation(kernel_width_x10):\n",
    "    x = np.arange(100, 200, 1)\n",
    "    \n",
    "    # Output value is Gaussian kernel multiplied by all positive samples\n",
    "    yval1 = np.zeros(len(x))\n",
    "    for xind, xval in enumerate(x):\n",
    "        yval1[xind] = sum(stats.norm.pdf(x_1, xval, kernel_width_x10 / 10))\n",
    "    yval2 = np.zeros(len(x))\n",
    "    for xind, xval in enumerate(x):\n",
    "        yval2[xind] = sum(stats.norm.pdf(x_2, xval, kernel_width_x10 / 10))\n",
    "\n",
    "    # We normalize values to sum one (this is ad hoc)\n",
    "    plt.plot(x, yval1/sum(yval1),'r-')\n",
    "    plt.plot(x, yval2/sum(yval2),'g-')\n",
    "\n",
    "    # For comparison let's also print Gaussians\n",
    "    mu1 = np.mean(x_1)\n",
    "    mu2 = np.mean(x_2)\n",
    "    sigma1 = np.std(x_1)\n",
    "    sigma2 = np.std(x_2)\n",
    "    \n",
    "    \n",
    "    print('Measurement 1')\n",
    "    print('Value of mean gives highest product of normal pdf:', x[np.argmax(yval1, axis=0)])\n",
    "    print('Emperical mean:', mu1)\n",
    "    \n",
    "    print()\n",
    "    print('Measurement 2')\n",
    "    print('Value of mean gives highest product of normal pdf:', x[np.argmax(yval2, axis=0)])\n",
    "    print('Emperical mean:', mu2)\n",
    "\n",
    "    \n",
    "    x = np.arange(100, 200, 1)\n",
    "        \n",
    "    plt.plot(x, stats.norm.pdf(x, mu1, sigma1),'r--', label='Measurement 1 - Biased variance')\n",
    "    plt.plot(x, stats.norm.pdf(x, mu2, sigma2),'g--', label='Measurement 2 - Biased variance')\n",
    "    \n",
    "    plt.plot(x, stats.norm.pdf(x, mu1, np.sqrt(N / (N - 1) * sigma1)), label='Measurement 1 - Unbiased variance')\n",
    "    plt.plot(x, stats.norm.pdf(x, mu2, np.sqrt(N / (N - 1) * sigma2)), label='Measurement 2 - Unbiased variance')\n",
    "    \n",
    "    plt.legend()"
   ]
  },
  {
   "cell_type": "code",
   "execution_count": 81,
   "metadata": {},
   "outputs": [
    {
     "data": {
      "image/png": "[encoded data removed]",
      "text/plain": [
       "<Figure size 432x288 with 1 Axes>"
      ]
     },
     "metadata": {
      "needs_background": "light"
     },
     "output_type": "display_data"
    },
    {
     "name": "stdout",
     "output_type": "stream",
     "text": [
      "Values on slider are kernel width multply with 10.\n"
     ]
    },
    {
     "data": {
      "application/vnd.jupyter.widget-view+json": {
       "model_id": "dcd1983cc7ff436b9b40755970273b3a",
       "version_major": 2,
       "version_minor": 0
      },
      "text/plain": [
       "interactive(children=(IntSlider(value=25, description='kernel_width_x10', max=50), Output()), _dom_classes=('w…"
      ]
     },
     "metadata": {},
     "output_type": "display_data"
    },
    {
     "data": {
      "text/plain": [
       "<function __main__.kernel_estimation(kernel_width_x10)>"
      ]
     },
     "execution_count": 81,
     "metadata": {},
     "output_type": "execute_result"
    }
   ],
   "source": [
    "import scipy.stats as stats\n",
    "from ipywidgets import interact\n",
    "%matplotlib inline\n",
    "\n",
    "# Plot data generated.\n",
    "plt.xlabel('x: height [cm]')\n",
    "plt.axis([140, 200, -2, 2])\n",
    "\n",
    "plt.plot(x_1,np.zeros(len(x_1)),'rx')\n",
    "plt.plot(x_2,np.zeros(len(x_2)),'ko')\n",
    "plt.show()\n",
    "\n",
    "\n",
    "# Try many values of the kernel width\n",
    "print('Values on slider are kernel width multply with 10.')\n",
    "interact(kernel_estimation, kernel_width_x10=(0, 50))"
   ]
  },
  {
   "cell_type": "markdown",
   "metadata": {},
   "source": [
    "When experiments, value of kerel with about 3 would be most fit to my data."
   ]
  }
 ],
 "metadata": {
  "kernelspec": {
   "display_name": "Python 3",
   "language": "python",
   "name": "python3"
  },
  "language_info": {
   "codemirror_mode": {
    "name": "ipython",
    "version": 3
   },
   "file_extension": ".py",
   "mimetype": "text/x-python",
   "name": "python",
   "nbconvert_exporter": "python",
   "pygments_lexer": "ipython3",
   "version": "3.7.4"
  }
 },
 "nbformat": 4,
 "nbformat_minor": 4
}
