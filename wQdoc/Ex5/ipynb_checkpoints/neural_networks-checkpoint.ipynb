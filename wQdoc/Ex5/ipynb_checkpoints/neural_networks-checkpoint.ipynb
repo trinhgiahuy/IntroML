{
 "cells": [
  {
   "cell_type": "markdown",
   "metadata": {},
   "source": [
    "# Neural regression"
   ]
  },
  {
   "cell_type": "markdown",
   "metadata": {},
   "source": [
    "### First we need to generate training data"
   ]
  },
  {
   "cell_type": "code",
   "execution_count": 1,
   "metadata": {},
   "outputs": [
    {
     "data": {
      "image/png": "[encoded data removed]",
      "text/plain": [
       "<Figure size 432x288 with 1 Axes>"
      ]
     },
     "metadata": {
      "needs_background": "light"
     },
     "output_type": "display_data"
    }
   ],
   "source": [
    "import numpy as np\n",
    "import matplotlib.pyplot as plot\n",
    "\n",
    "# Generate a sine wave\n",
    "t = np.arange(0, 10, 0.1);\n",
    "y = np.sin(t)\n",
    "plot.plot(t, y)\n",
    "plot.title('Training data for regression y=f(t)')\n",
    "plot.xlabel('Time')\n",
    "plot.ylabel('y = sin(t)')\n",
    "plot.grid(True, which='both')\n",
    "plot.show()"
   ]
  },
  {
   "cell_type": "markdown",
   "metadata": {},
   "source": [
    "### Then we define NNet by adding suitable number of layers and neurons"
   ]
  },
  {
   "cell_type": "code",
   "execution_count": 2,
   "metadata": {},
   "outputs": [
    {
     "ename": "ModuleNotFoundError",
     "evalue": "No module named 'tensorflow'",
     "output_type": "error",
     "traceback": [
      "\u001b[1;31m---------------------------------------------------------------------------\u001b[0m",
      "\u001b[1;31mModuleNotFoundError\u001b[0m                       Traceback (most recent call last)",
      "\u001b[1;32m<ipython-input-2-8282eef0ba09>\u001b[0m in \u001b[0;36m<module>\u001b[1;34m\u001b[0m\n\u001b[1;32m----> 1\u001b[1;33m \u001b[1;32mimport\u001b[0m \u001b[0mtensorflow\u001b[0m \u001b[1;32mas\u001b[0m \u001b[0mtf\u001b[0m\u001b[1;33m\u001b[0m\u001b[1;33m\u001b[0m\u001b[0m\n\u001b[0m\u001b[0;32m      2\u001b[0m \u001b[1;32mfrom\u001b[0m \u001b[0mtensorflow\u001b[0m\u001b[1;33m.\u001b[0m\u001b[0mkeras\u001b[0m\u001b[1;33m.\u001b[0m\u001b[0mmodels\u001b[0m \u001b[1;32mimport\u001b[0m \u001b[0mSequential\u001b[0m\u001b[1;33m\u001b[0m\u001b[1;33m\u001b[0m\u001b[0m\n\u001b[0;32m      3\u001b[0m \u001b[1;32mfrom\u001b[0m \u001b[0mtensorflow\u001b[0m\u001b[1;33m.\u001b[0m\u001b[0mkeras\u001b[0m\u001b[1;33m.\u001b[0m\u001b[0mlayers\u001b[0m \u001b[1;32mimport\u001b[0m \u001b[0mDense\u001b[0m\u001b[1;33m\u001b[0m\u001b[1;33m\u001b[0m\u001b[0m\n\u001b[0;32m      4\u001b[0m \u001b[1;32mimport\u001b[0m \u001b[0mkeras\u001b[0m\u001b[1;33m\u001b[0m\u001b[1;33m\u001b[0m\u001b[0m\n\u001b[0;32m      5\u001b[0m \u001b[1;31m# Model sequential\u001b[0m\u001b[1;33m\u001b[0m\u001b[1;33m\u001b[0m\u001b[1;33m\u001b[0m\u001b[0m\n",
      "\u001b[1;31mModuleNotFoundError\u001b[0m: No module named 'tensorflow'"
     ]
    }
   ],
   "source": [
    "import tensorflow as tf\n",
    "from tensorflow.keras.models import Sequential\n",
    "from tensorflow.keras.layers import Dense\n",
    "import keras\n",
    "\n",
    "# Model sequential\n",
    "model = Sequential()\n",
    "# 1st hidden layer (we also need to tell the input dimension)\n",
    "#   10 neurons, but you can change to play a bit\n",
    "model.add(Dense(10, input_dim=1, activation='sigmoid'))\n",
    "## 2nd hidden layer - YOU MAY TEST THIS\n",
    "#model.add(Dense(10, activation='sigmoid'))\n",
    "# Output layer\n",
    "#model.add(Dense(1, activation='sigmoid'))\n",
    "model.add(Dense(1, activation='tanh'))\n",
    "# Learning rate has huge effect \n",
    "keras.optimizers.SGD(lr=0.2)\n",
    "model.compile(optimizer='sgd', loss='mse', metrics=['mse'])"
   ]
  },
  {
   "cell_type": "markdown",
   "metadata": {},
   "source": [
    "### We train the network for number of epochs (10-10000, but you may test different values)"
   ]
  },
  {
   "cell_type": "code",
   "execution_count": null,
   "metadata": {},
   "outputs": [],
   "source": [
    "model.fit(t, y, epochs=100, verbose=1)"
   ]
  },
  {
   "cell_type": "markdown",
   "metadata": {},
   "source": [
    "### Let's test how well the network models the data"
   ]
  },
  {
   "cell_type": "code",
   "execution_count": null,
   "metadata": {},
   "outputs": [],
   "source": [
    "from sklearn.metrics import mean_squared_error \n",
    "y_pred = model.predict(t)\n",
    "print(y[1])\n",
    "print(y_pred[1])\n",
    "print(np.sum(np.absolute(np.subtract(y,y_pred)))/len(t))\n",
    "print(np.square(np.subtract(y,y_pred)).mean())\n",
    "print(len(y))\n",
    "print(np.divide(np.sum(np.square(y-y_pred)),len(y)))\n",
    "print('MSE=',mean_squared_error(y,y_pred))\n",
    "plot.plot(t, y, label='y')\n",
    "plot.plot(t, y_pred, label='y_pred')\n",
    "plot.title('Training data (sine wave)')\n",
    "plot.xlabel('Time')\n",
    "plot.ylabel('y = sin(t)')\n",
    "plot.grid(True, which='both')\n",
    "plot.legend()\n",
    "plot.show()"
   ]
  },
  {
   "cell_type": "markdown",
   "metadata": {},
   "source": [
    "# Neural classification"
   ]
  },
  {
   "cell_type": "markdown",
   "metadata": {},
   "source": [
    "### Let's make two classes in 2D"
   ]
  },
  {
   "cell_type": "code",
   "execution_count": null,
   "metadata": {},
   "outputs": [],
   "source": [
    "# Some random experiments with 2D Gaussians\n",
    "mu1 = [165,60]\n",
    "cov1 = [[10,0],[0,5]]\n",
    "mu2 = [180,80]\n",
    "cov2 = [[6,0],[0,10]]\n",
    "x1 = np.random.multivariate_normal(mu1, cov1, 100)\n",
    "x2 = np.random.multivariate_normal(mu2, cov2, 100)\n",
    "plot.plot(x1[:,0],x1[:,1],'rx')\n",
    "plot.plot(x2[:,0],x2[:,1],'gx')"
   ]
  },
  {
   "cell_type": "code",
   "execution_count": null,
   "metadata": {},
   "outputs": [],
   "source": [
    "# Model sequential\n",
    "model2 = Sequential()\n",
    "# 1st hidden layer (we also need to tell the input dimension)\n",
    "model2.add(Dense(10, input_dim=2, activation='sigmoid'))\n",
    "## 2nd hidden layer\n",
    "#model.add(Dense(10, activation='sigmoid'))\n",
    "# Output layer\n",
    "#model.add(Dense(1, activation='sigmoid'))\n",
    "# Output is 2D - [1 0] for class 1 and [0 1] for class 2\n",
    "model2.add(Dense(2, activation='sigmoid'))\n",
    "keras.optimizers.SGD(lr=0.1)\n",
    "model2.compile(optimizer='sgd', loss='mse', metrics=['mse'])"
   ]
  },
  {
   "cell_type": "code",
   "execution_count": null,
   "metadata": {},
   "outputs": [],
   "source": [
    "# Let's for the the 2D N input samples X and their 2D output labels Y\n",
    "X = np.row_stack((x1, x2))\n",
    "y1 = np.empty([x1.shape[0],2])\n",
    "y1[:,0] = 1\n",
    "y1[:,1] = 0\n",
    "y2 = np.empty([x2.shape[0],2])\n",
    "y2[:,0] = 0\n",
    "y2[:,1] = 1\n",
    "Y = np.row_stack((y1,y2))\n",
    "#print(Y)\n",
    "model2.fit(X, Y, epochs=100, verbose=1)"
   ]
  },
  {
   "cell_type": "code",
   "execution_count": null,
   "metadata": {},
   "outputs": [],
   "source": [
    "# You may check outputs for training data x1 (should be 1 0) and x2 (0 1)\n",
    "print(model2.predict(x1[0:9,:]))\n",
    "print(model2.predict(x2[0:9,:]))"
   ]
  },
  {
   "cell_type": "code",
   "execution_count": null,
   "metadata": {},
   "outputs": [],
   "source": [
    "# Let's plot how classification changes in different parts of the input space\n",
    "for xi in range(150,190,5):\n",
    "    for yi in range(50,100,5):\n",
    "        inp = np.empty([1,2])\n",
    "        inp[0,0] = xi\n",
    "        inp[0,1] = yi\n",
    "        cl_prob = model2.predict(inp)\n",
    "        if cl_prob[0][0] > cl_prob[0][1]:\n",
    "            plot.plot(xi,yi,'rx')\n",
    "        else:\n",
    "            plot.plot(xi,yi,'gx')"
   ]
  }
 ],
 "metadata": {
  "kernelspec": {
   "display_name": "Python 3",
   "language": "python",
   "name": "python3"
  },
  "language_info": {
   "codemirror_mode": {
    "name": "ipython",
    "version": 3
   },
   "file_extension": ".py",
   "mimetype": "text/x-python",
   "name": "python",
   "nbconvert_exporter": "python",
   "pygments_lexer": "ipython3",
   "version": "3.7.4"
  }
 },
 "nbformat": 4,
 "nbformat_minor": 2
}
